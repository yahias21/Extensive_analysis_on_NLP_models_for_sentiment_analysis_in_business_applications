{
  "nbformat": 4,
  "nbformat_minor": 0,
  "metadata": {
    "accelerator": "GPU",
    "colab": {
      "name": "top_semanticMiner.ipynb",
      "provenance": []
    },
    "kernelspec": {
      "display_name": "Python 3 (ipykernel)",
      "language": "python",
      "name": "python3"
    },
    "language_info": {
      "codemirror_mode": {
        "name": "ipython",
        "version": 3
      },
      "file_extension": ".py",
      "mimetype": "text/x-python",
      "name": "python",
      "nbconvert_exporter": "python",
      "pygments_lexer": "ipython3",
      "version": "3.8.10"
    }
  },
  "cells": [
    {
      "cell_type": "markdown",
      "metadata": {
        "id": "88i2trkYWQCd"
      },
      "source": [
        "# A complete profile for sentiment analysis model"
      ]
    },
    {
      "cell_type": "markdown",
      "metadata": {
        "id": "iki1WlLOTn3L"
      },
      "source": [
        "![picture](https://media.springernature.com/original/springer-static/image/chp%3A10.1007%2F978-981-15-0029-9_7/MediaObjects/475950_1_En_7_Fig2_HTML.png)"
      ]
    },
    {
      "cell_type": "markdown",
      "metadata": {
        "id": "_Bm1hVHTWQCf"
      },
      "source": [
        "## Models Ideas:\n",
        "1. Use of custom models for different categories (tech, food, books,...) to be automatically (using context classfication) or manually selected(by the client). *(different datasets applied)*\n",
        "2. Run multiple models per dataset and derive weighted average results.\n",
        "3. Developing a layered classification **use *fast/slow* classification** (divide the dataset using confidence index to strong and weak groups; the weak group will be analysed further using Roberta model).\n",
        "4. Aspect based analysis **(attach sentiment to specific aspects rather than sentence/opinion)** and word cloud **(for word frequencies)** to show insights of the reviews. (Amazon comprehend model)\n",
        "5. Use of lemmatization, opinion unit extractor, subjectivity index and multiclass classification(love, sad, angry,...) for better accuracy and data enrichment.\n",
        "6. Test of a sent-ngrams lexion sentiment analysis **(SO-CAL)**.\n",
        "7. Use of client dataset to fine-tune the model. (Ideation phase)"
      ]
    },
    {
      "cell_type": "markdown",
      "metadata": {
        "id": "0Lo9tD3hrQ-2"
      },
      "source": [
        "## Transformers Compararison:"
      ]
    },
    {
      "cell_type": "code",
      "metadata": {
        "id": "RLAGHYMVrEk9",
        "outputId": "3a3b4418-538b-40c7-ed50-7c3f6f34174a",
        "colab": {
          "base_uri": "https://localhost:8080/",
          "height": 886
        }
      },
      "source": [
        "df\n"
      ],
      "execution_count": 5,
      "outputs": [
        {
          "output_type": "execute_result",
          "data": {
            "text/html": [
              "<div>\n",
              "<style scoped>\n",
              "    .dataframe tbody tr th:only-of-type {\n",
              "        vertical-align: middle;\n",
              "    }\n",
              "\n",
              "    .dataframe tbody tr th {\n",
              "        vertical-align: top;\n",
              "    }\n",
              "\n",
              "    .dataframe thead th {\n",
              "        text-align: right;\n",
              "    }\n",
              "</style>\n",
              "<table border=\"1\" class=\"dataframe\">\n",
              "  <thead>\n",
              "    <tr style=\"text-align: right;\">\n",
              "      <th></th>\n",
              "      <th>Model Name</th>\n",
              "      <th>Base Model</th>\n",
              "      <th>Pooling</th>\n",
              "      <th>Training Data</th>\n",
              "      <th>STSb Performance (Higher = Better)</th>\n",
              "      <th>Speed (Sent. / Sec on V100 GPU)</th>\n",
              "      <th>Comments</th>\n",
              "    </tr>\n",
              "  </thead>\n",
              "  <tbody>\n",
              "    <tr>\n",
              "      <th>0</th>\n",
              "      <td>stsb-mpnet-base-v2</td>\n",
              "      <td>mpnet-base</td>\n",
              "      <td>Mean Pooling</td>\n",
              "      <td>NLI+STSb</td>\n",
              "      <td>88.57</td>\n",
              "      <td>2800</td>\n",
              "      <td>NaN</td>\n",
              "    </tr>\n",
              "    <tr>\n",
              "      <th>1</th>\n",
              "      <td>stsb-roberta-base-v2</td>\n",
              "      <td>roberta-base</td>\n",
              "      <td>Mean Pooling</td>\n",
              "      <td>NLI+STSb</td>\n",
              "      <td>87.21</td>\n",
              "      <td>2300</td>\n",
              "      <td>NaN</td>\n",
              "    </tr>\n",
              "    <tr>\n",
              "      <th>2</th>\n",
              "      <td>stsb-distilroberta-base-v2</td>\n",
              "      <td>distilroberta-base</td>\n",
              "      <td>Mean Pooling</td>\n",
              "      <td>NLI+STSb</td>\n",
              "      <td>86.41</td>\n",
              "      <td>4000</td>\n",
              "      <td>NaN</td>\n",
              "    </tr>\n",
              "    <tr>\n",
              "      <th>3</th>\n",
              "      <td>nli-mpnet-base-v2</td>\n",
              "      <td>mpnet-base</td>\n",
              "      <td>Mean Pooling</td>\n",
              "      <td>NLI</td>\n",
              "      <td>86.53</td>\n",
              "      <td>2800</td>\n",
              "      <td>NaN</td>\n",
              "    </tr>\n",
              "    <tr>\n",
              "      <th>4</th>\n",
              "      <td>stsb-roberta-large</td>\n",
              "      <td>roberta-base</td>\n",
              "      <td>Mean Pooling</td>\n",
              "      <td>NLI+STSb</td>\n",
              "      <td>86.39</td>\n",
              "      <td>830</td>\n",
              "      <td>NaN</td>\n",
              "    </tr>\n",
              "    <tr>\n",
              "      <th>5</th>\n",
              "      <td>nli-roberta-base-v2</td>\n",
              "      <td>roberta-base</td>\n",
              "      <td>Mean Pooling</td>\n",
              "      <td>NLI</td>\n",
              "      <td>85.54</td>\n",
              "      <td>2300</td>\n",
              "      <td>NaN</td>\n",
              "    </tr>\n",
              "    <tr>\n",
              "      <th>6</th>\n",
              "      <td>stsb-roberta-base</td>\n",
              "      <td>roberta-base</td>\n",
              "      <td>Mean Pooling</td>\n",
              "      <td>NLI+STSb</td>\n",
              "      <td>85.44</td>\n",
              "      <td>2300</td>\n",
              "      <td>NaN</td>\n",
              "    </tr>\n",
              "    <tr>\n",
              "      <th>7</th>\n",
              "      <td>stsb-bert-large</td>\n",
              "      <td>bert-large-uncased</td>\n",
              "      <td>Mean Pooling</td>\n",
              "      <td>NLI+STSb</td>\n",
              "      <td>85.29</td>\n",
              "      <td>830</td>\n",
              "      <td>NaN</td>\n",
              "    </tr>\n",
              "    <tr>\n",
              "      <th>8</th>\n",
              "      <td>stsb-distilbert-base</td>\n",
              "      <td>distilbert-base-uncased</td>\n",
              "      <td>Mean Pooling</td>\n",
              "      <td>NLI+STSb</td>\n",
              "      <td>85.16</td>\n",
              "      <td>4000</td>\n",
              "      <td>NaN</td>\n",
              "    </tr>\n",
              "    <tr>\n",
              "      <th>9</th>\n",
              "      <td>stsb-bert-base</td>\n",
              "      <td>bert-base-uncased</td>\n",
              "      <td>Mean Pooling</td>\n",
              "      <td>NLI+STSb</td>\n",
              "      <td>85.14</td>\n",
              "      <td>2300</td>\n",
              "      <td>NaN</td>\n",
              "    </tr>\n",
              "    <tr>\n",
              "      <th>10</th>\n",
              "      <td>nli-distilroberta-base-v2</td>\n",
              "      <td>distilroberta-base</td>\n",
              "      <td>Mean Pooling</td>\n",
              "      <td>NLI</td>\n",
              "      <td>84.38</td>\n",
              "      <td>4000</td>\n",
              "      <td>NaN</td>\n",
              "    </tr>\n",
              "    <tr>\n",
              "      <th>11</th>\n",
              "      <td>paraphrase-xlm-r-multilingual-v1</td>\n",
              "      <td>XLM-R</td>\n",
              "      <td>Mean Pooling</td>\n",
              "      <td>Paraphrase Data</td>\n",
              "      <td>83.50</td>\n",
              "      <td>2300</td>\n",
              "      <td>NaN</td>\n",
              "    </tr>\n",
              "    <tr>\n",
              "      <th>12</th>\n",
              "      <td>paraphrase-distilroberta-base-v1</td>\n",
              "      <td>distilroberta-base</td>\n",
              "      <td>Mean Pooling</td>\n",
              "      <td>Paraphrase Data</td>\n",
              "      <td>81.81</td>\n",
              "      <td>4000</td>\n",
              "      <td>NaN</td>\n",
              "    </tr>\n",
              "    <tr>\n",
              "      <th>13</th>\n",
              "      <td>nli-bert-large</td>\n",
              "      <td>bert-large-uncased</td>\n",
              "      <td>Mean Pooling</td>\n",
              "      <td>NLI</td>\n",
              "      <td>79.19</td>\n",
              "      <td>830</td>\n",
              "      <td>NaN</td>\n",
              "    </tr>\n",
              "    <tr>\n",
              "      <th>14</th>\n",
              "      <td>nli-distilbert-base</td>\n",
              "      <td>distilbert-base-uncased</td>\n",
              "      <td>Mean Pooling</td>\n",
              "      <td>NLI</td>\n",
              "      <td>78.69</td>\n",
              "      <td>4000</td>\n",
              "      <td>NaN</td>\n",
              "    </tr>\n",
              "    <tr>\n",
              "      <th>15</th>\n",
              "      <td>nli-roberta-large</td>\n",
              "      <td>roberta-large</td>\n",
              "      <td>Mean Pooling</td>\n",
              "      <td>NLI</td>\n",
              "      <td>78.69</td>\n",
              "      <td>830</td>\n",
              "      <td>NaN</td>\n",
              "    </tr>\n",
              "    <tr>\n",
              "      <th>16</th>\n",
              "      <td>nli-bert-large-max-pooling</td>\n",
              "      <td>bert-large-uncased</td>\n",
              "      <td>Max Pooling</td>\n",
              "      <td>NLI</td>\n",
              "      <td>78.41</td>\n",
              "      <td>830</td>\n",
              "      <td>NaN</td>\n",
              "    </tr>\n",
              "    <tr>\n",
              "      <th>17</th>\n",
              "      <td>nli-bert-large-cls-pooling</td>\n",
              "      <td>bert-large-uncased</td>\n",
              "      <td>CLS Token</td>\n",
              "      <td>NLI</td>\n",
              "      <td>78.29</td>\n",
              "      <td>830</td>\n",
              "      <td>NaN</td>\n",
              "    </tr>\n",
              "    <tr>\n",
              "      <th>18</th>\n",
              "      <td>nli-distilbert-base-max-pooling</td>\n",
              "      <td>distilbert-base-uncased</td>\n",
              "      <td>Max Pooling</td>\n",
              "      <td>NLI</td>\n",
              "      <td>77.61</td>\n",
              "      <td>4000</td>\n",
              "      <td>NaN</td>\n",
              "    </tr>\n",
              "    <tr>\n",
              "      <th>19</th>\n",
              "      <td>nli-roberta-base</td>\n",
              "      <td>roberta-base</td>\n",
              "      <td>Mean Pooling</td>\n",
              "      <td>NLI</td>\n",
              "      <td>77.49</td>\n",
              "      <td>2300</td>\n",
              "      <td>NaN</td>\n",
              "    </tr>\n",
              "    <tr>\n",
              "      <th>20</th>\n",
              "      <td>nli-bert-base-max-pooling</td>\n",
              "      <td>bert-base-uncased</td>\n",
              "      <td>Max Pooling</td>\n",
              "      <td>NLI</td>\n",
              "      <td>77.21</td>\n",
              "      <td>2300</td>\n",
              "      <td>NaN</td>\n",
              "    </tr>\n",
              "    <tr>\n",
              "      <th>21</th>\n",
              "      <td>nli-bert-base</td>\n",
              "      <td>bert-base-uncased</td>\n",
              "      <td>Mean Pooling</td>\n",
              "      <td>NLI</td>\n",
              "      <td>77.12</td>\n",
              "      <td>2300</td>\n",
              "      <td>NaN</td>\n",
              "    </tr>\n",
              "    <tr>\n",
              "      <th>22</th>\n",
              "      <td>nli-bert-base-cls-pooling</td>\n",
              "      <td>bert-base-uncased</td>\n",
              "      <td>CLS Token</td>\n",
              "      <td>NLI</td>\n",
              "      <td>76.30</td>\n",
              "      <td>2300</td>\n",
              "      <td>NaN</td>\n",
              "    </tr>\n",
              "    <tr>\n",
              "      <th>23</th>\n",
              "      <td>average_word_embeddings_glove.6B.300d</td>\n",
              "      <td>Word Embeddings: GloVe</td>\n",
              "      <td>Mean Pooling</td>\n",
              "      <td>-</td>\n",
              "      <td>61.77</td>\n",
              "      <td>34000</td>\n",
              "      <td>Average word embeddings with GloVe (6B, 300 di...</td>\n",
              "    </tr>\n",
              "    <tr>\n",
              "      <th>24</th>\n",
              "      <td>average_word_embeddings_komninos</td>\n",
              "      <td>Word Embeddings: Komninos et al.</td>\n",
              "      <td>Mean Pooling</td>\n",
              "      <td>-</td>\n",
              "      <td>61.56</td>\n",
              "      <td>22000</td>\n",
              "      <td>Average word embeddings with Komninos et al. e...</td>\n",
              "    </tr>\n",
              "    <tr>\n",
              "      <th>25</th>\n",
              "      <td>average_word_embeddings_levy_dependency</td>\n",
              "      <td>Word Embeddings: Levy et al.</td>\n",
              "      <td>Mean Pooling</td>\n",
              "      <td>-</td>\n",
              "      <td>59.22</td>\n",
              "      <td>22000</td>\n",
              "      <td>Average word embeddings with Levy et al. depen...</td>\n",
              "    </tr>\n",
              "    <tr>\n",
              "      <th>26</th>\n",
              "      <td>average_word_embeddings_glove.840B.300d</td>\n",
              "      <td>Word Embeddings: GloVe</td>\n",
              "      <td>Mean Pooling</td>\n",
              "      <td>NaN</td>\n",
              "      <td>52.54</td>\n",
              "      <td>34000</td>\n",
              "      <td>Average word embeddings with GloVe (840B, 300 ...</td>\n",
              "    </tr>\n",
              "  </tbody>\n",
              "</table>\n",
              "</div>"
            ],
            "text/plain": [
              "                                 Model Name  ...                                           Comments\n",
              "0                        stsb-mpnet-base-v2  ...                                                NaN\n",
              "1                      stsb-roberta-base-v2  ...                                                NaN\n",
              "2                stsb-distilroberta-base-v2  ...                                                NaN\n",
              "3                         nli-mpnet-base-v2  ...                                                NaN\n",
              "4                        stsb-roberta-large  ...                                                NaN\n",
              "5                       nli-roberta-base-v2  ...                                                NaN\n",
              "6                         stsb-roberta-base  ...                                                NaN\n",
              "7                           stsb-bert-large  ...                                                NaN\n",
              "8                      stsb-distilbert-base  ...                                                NaN\n",
              "9                            stsb-bert-base  ...                                                NaN\n",
              "10                nli-distilroberta-base-v2  ...                                                NaN\n",
              "11         paraphrase-xlm-r-multilingual-v1  ...                                                NaN\n",
              "12         paraphrase-distilroberta-base-v1  ...                                                NaN\n",
              "13                           nli-bert-large  ...                                                NaN\n",
              "14                      nli-distilbert-base  ...                                                NaN\n",
              "15                        nli-roberta-large  ...                                                NaN\n",
              "16               nli-bert-large-max-pooling  ...                                                NaN\n",
              "17               nli-bert-large-cls-pooling  ...                                                NaN\n",
              "18          nli-distilbert-base-max-pooling  ...                                                NaN\n",
              "19                         nli-roberta-base  ...                                                NaN\n",
              "20                nli-bert-base-max-pooling  ...                                                NaN\n",
              "21                            nli-bert-base  ...                                                NaN\n",
              "22                nli-bert-base-cls-pooling  ...                                                NaN\n",
              "23    average_word_embeddings_glove.6B.300d  ...  Average word embeddings with GloVe (6B, 300 di...\n",
              "24         average_word_embeddings_komninos  ...  Average word embeddings with Komninos et al. e...\n",
              "25  average_word_embeddings_levy_dependency  ...  Average word embeddings with Levy et al. depen...\n",
              "26  average_word_embeddings_glove.840B.300d  ...  Average word embeddings with GloVe (840B, 300 ...\n",
              "\n",
              "[27 rows x 7 columns]"
            ]
          },
          "metadata": {},
          "execution_count": 5
        }
      ]
    },
    {
      "cell_type": "markdown",
      "metadata": {
        "id": "sodUERMXWQCg"
      },
      "source": [
        "## Datasets used:\n",
        "1. Twitter airline \n",
        "2. IMDB \n",
        "3. Yelp (preprocessing phase)\n",
        "4. Amazon \n",
        "5. 140sentiment twitter"
      ]
    },
    {
      "cell_type": "markdown",
      "metadata": {
        "id": "VnyUKCIYWQCh"
      },
      "source": [
        "## Implementation:"
      ]
    },
    {
      "cell_type": "markdown",
      "metadata": {
        "id": "AUP9j8SCWQCh"
      },
      "source": [
        "### Imports:"
      ]
    },
    {
      "cell_type": "code",
      "metadata": {
        "id": "zkIt7_lKp0h-",
        "pycharm": {
          "is_executing": true
        }
      },
      "source": [
        "# Install the transformers library\n",
        "!pip install transformers\n",
        "!pip install vaderSentiment\n",
        "!pip install flair"
      ],
      "execution_count": null,
      "outputs": []
    },
    {
      "cell_type": "code",
      "metadata": {
        "id": "YRHTAIVJWQCh",
        "pycharm": {
          "is_executing": true
        },
        "colab": {
          "base_uri": "https://localhost:8080/"
        },
        "outputId": "ae228efa-0398-4259-ca52-49056823b799"
      },
      "source": [
        "from textblob import TextBlob as tb\n",
        "from textblob.sentiments import NaiveBayesAnalyzer\n",
        "from textblob import Blobber\n",
        "from vaderSentiment.vaderSentiment import SentimentIntensityAnalyzer\n",
        "from flair.data import Sentence\n",
        "from flair.models import TextClassifier\n",
        "from sklearn import metrics\n",
        "import pandas as pd\n",
        "from transformers import pipeline\n",
        "from sklearn.utils import shuffle\n",
        "import time\n",
        "# from transformers import AutoTokenizer, AutoModelForSequenceClassification, Trainer\n",
        "# only for colab\n",
        "from google.colab import drive\n",
        "drive.mount('/content/drive')\n",
        "import io\n",
        "from google.colab import files\n",
        "import numpy as np \n",
        "import pandas as pd\n",
        "uploaded=files.upload()\n",
        "df=pd.read_excel(io.BytesIO(uploaded['SentenceTransformer Pretrained Models.xlsx']))"
      ],
      "execution_count": null,
      "outputs": [
        {
          "output_type": "stream",
          "name": "stdout",
          "text": [
            "Mounted at /content/drive\n"
          ]
        }
      ]
    },
    {
      "cell_type": "markdown",
      "metadata": {
        "id": "kE59-3sHWQCi"
      },
      "source": [
        "### libraries implementation:"
      ]
    },
    {
      "cell_type": "code",
      "metadata": {
        "id": "NGERbWuDWQCi",
        "pycharm": {
          "is_executing": true
        }
      },
      "source": [
        "def metric(true,predict):\n",
        "    analytics=[]\n",
        "    #metrics.classification_report(true,predict)\n",
        "    analytics.append(round(metrics.accuracy_score(true,predict),2))\n",
        "    analytics.append(round(metrics.precision_score(true,predict,average='weighted'),2))\n",
        "    analytics.append(round(metrics.recall_score(true,predict,average='weighted'),2))\n",
        "    analytics.append(round(metrics.f1_score(true,predict,average='weighted'),2))\n",
        "    return analytics"
      ],
      "execution_count": null,
      "outputs": []
    },
    {
      "cell_type": "code",
      "metadata": {
        "id": "oXdp_EIMWQCj",
        "pycharm": {
          "is_executing": true
        }
      },
      "source": [
        "# class modelDataset:\n",
        "#     def __init__(self, tokenized_texts):\n",
        "#         self.tokenized_texts = tokenized_texts\n",
        "\n",
        "#     def __len__(self):\n",
        "#         return len(self.tokenized_texts[\"input_ids\"])\n",
        "\n",
        "#     def __getitem__(self, idx):\n",
        "#         return {k: v[idx] for k, v in self.tokenized_texts.items()}"
      ],
      "execution_count": null,
      "outputs": []
    },
    {
      "cell_type": "code",
      "metadata": {
        "id": "sT28MtWhWQCj",
        "pycharm": {
          "is_executing": true
        }
      },
      "source": [
        "def textblobPattern(text):\n",
        "    sentiment = []\n",
        "    start=time.time()\n",
        "    for sentence in text:\n",
        "        sent = tb(sentence).polarity\n",
        "        if sent > 0:\n",
        "            sentiment.append(1)\n",
        "        elif sent < 0:\n",
        "            sentiment.append(-1)\n",
        "        else:\n",
        "            sentiment.append(0)\n",
        "    end=time.time()\n",
        "    tm=(end-start)/len(text)\n",
        "    return tm,sentiment\n"
      ],
      "execution_count": null,
      "outputs": []
    },
    {
      "cell_type": "code",
      "metadata": {
        "pycharm": {
          "is_executing": true,
          "name": "#%%\n"
        },
        "id": "5bXICqyDSWyi"
      },
      "source": [
        "def textblobNB(text):\n",
        "    sentimentV, sentimentT = [], []\n",
        "    tbnb = Blobber(analyzer=NaiveBayesAnalyzer())\n",
        "    for sentence in text:\n",
        "        ts = tbnb(sentence).sentiment\n",
        "    return sentimentV, sentimentT\n"
      ],
      "execution_count": null,
      "outputs": []
    },
    {
      "cell_type": "code",
      "metadata": {
        "pycharm": {
          "is_executing": true,
          "name": "#%%\n"
        },
        "id": "rNQPMZjcSWyj"
      },
      "source": [
        "def vader(text):\n",
        "    sentiment = []\n",
        "    analyzer = SentimentIntensityAnalyzer()\n",
        "    start=time.time()\n",
        "    for sentence in text:\n",
        "        vs = analyzer.polarity_scores(sentence)['compound']\n",
        "        if (vs > 0.5):\n",
        "            sentiment.append(1)\n",
        "        elif (vs < -0.5):\n",
        "            sentiment.append(-1)\n",
        "        else:\n",
        "            sentiment.append(0)\n",
        "    end = time.time()\n",
        "    tm = (end - start) / len(text)\n",
        "    return tm, sentiment\n"
      ],
      "execution_count": null,
      "outputs": []
    },
    {
      "cell_type": "code",
      "metadata": {
        "pycharm": {
          "is_executing": true,
          "name": "#%%\n"
        },
        "id": "FgybBaBISWyl"
      },
      "source": [
        "def flair(text):\n",
        "    classifier = TextClassifier.load('sentiment-fast')\n",
        "    # sentences = [Sentence(t) for t in text]\n",
        "    sentiment = []\n",
        "    start=time.time()\n",
        "    for phrase in text:\n",
        "        sentence = Sentence(phrase)\n",
        "        classifier.predict(sentence, mini_batch_size=32)\n",
        "        sentiment.append(1 if sentence.labels[0].value == 'POSITIVE' else -1)\n",
        "    end = time.time()\n",
        "    tm = (end - start) / len(text)\n",
        "    return tm, sentiment\n"
      ],
      "execution_count": null,
      "outputs": []
    },
    {
      "cell_type": "code",
      "metadata": {
        "pycharm": {
          "is_executing": true,
          "name": "#%%\n"
        },
        "id": "68eb5zLBSWym"
      },
      "source": [
        "def RoBerta_large(text):\n",
        "    # tokenizer = AutoTokenizer.from_pretrained(\"siebert/sentiment-roberta-large-english\")\n",
        "    # model = AutoModelForSequenceClassification.from_pretrained(\"siebert/sentiment-roberta-large-english\")\n",
        "    # trainer = Trainer(model=model)\n",
        "    # tokenized_texts = tokenizer(text,truncation=True,padding=True)\n",
        "    # pred_dataset = modelDataset(tokenized_texts)\n",
        "    # predictions = trainer.predict(pred_dataset)\n",
        "    # preds = predictions.predictions.argmax(-1)\n",
        "    # return [-1 if x==0 else 1 for x in preds]\n",
        "    sentiment = []\n",
        "    sentiment_analysis = pipeline(\"sentiment-analysis\", model=\"siebert/sentiment-roberta-large-english\")\n",
        "    start=time.time()\n",
        "    for x in text:\n",
        "        sentiment.append(1 if sentiment_analysis(x, truncation=True, padding=True)[0]['label'] == 'POSITIVE' else -1)\n",
        "    end = time.time()\n",
        "    tm = (end - start) / len(text)\n",
        "    return tm, sentiment\n"
      ],
      "execution_count": null,
      "outputs": []
    },
    {
      "cell_type": "code",
      "metadata": {
        "pycharm": {
          "is_executing": true,
          "name": "#%%\n"
        },
        "id": "LFe_OFBmSWyn"
      },
      "source": [
        "\n",
        "def bert_base(text):\n",
        "    sentiment = []\n",
        "    sentiment_analysis = pipeline(\"sentiment-analysis\", model=\"nlptown/bert-base-multilingual-uncased-sentiment\")\n",
        "    start=time.time()\n",
        "    for x in text:\n",
        "        sent=  (sentiment_analysis(x, truncation=True, padding=True)[0]['label'])\n",
        "        if sent== \"1 star\":\n",
        "                sentiment.append(-1)\n",
        "        elif sent== \"2 stars\":\n",
        "                sentiment.append(-1)\n",
        "        elif sent == \"3 stars\":\n",
        "                sentiment.append(0)\n",
        "        elif sent ==\"4 stars\":\n",
        "                sentiment.append(1)\n",
        "        elif sent ==\"5 stars\":\n",
        "                sentiment.append(1)\n",
        "    end = time.time()\n",
        "    tm = (end - start) / len(text)\n",
        "    return tm, sentiment\n"
      ],
      "execution_count": null,
      "outputs": []
    },
    {
      "cell_type": "markdown",
      "metadata": {
        "id": "TSdIjvU-SWyo"
      },
      "source": [
        "### Model testing: (for each dataset)"
      ]
    },
    {
      "cell_type": "code",
      "metadata": {
        "pycharm": {
          "is_executing": true,
          "name": "#%%\n"
        },
        "id": "FXtwscKISWyo"
      },
      "source": [
        "def UsAirTw():\n",
        "    file_name = \"Datasets/usAir_tweets.csv\"\n",
        "    text_column = \"text\"\n",
        "    df = pd.read_csv(file_name)\n",
        "    df=shuffle (df)\n",
        "    df=df[:10000]\n",
        "    true = df[\"sentiment\"]\n",
        "    pred_texts = df[text_column].dropna().astype('str').tolist()\n",
        "    print(\"Metrics for usairline_tweets Dataset:\")\n",
        "    time, pred = textblobPattern(pred_texts)\n",
        "    textblobM = metric(true, pred)\n",
        "    print(f\"The textblob metrics:\\n accuracy={textblobM[0]},precision={textblobM[1]},recall={textblobM[2]},f1 score ={textblobM[3]},time per sentiment= {time}\")\n",
        "    time, pred = vader(pred_texts)\n",
        "    vaderM = metric(true, pred)\n",
        "    print(f\"The Vader metrics:\\n accuracy={vaderM[0]},precision={vaderM[1]},recall={vaderM[2]},f1 score ={vaderM[3]},time per sentiment= {time}\")\n",
        "    time, pred = flair(pred_texts)\n",
        "    flairM = metric(true, pred)\n",
        "    print(f\"The flair metrics:\\n accuracy={flairM[0]},precision={flairM[1]},recall={flairM[2]},f1 score ={flairM[3]},time per sentiment= {time}\")\n",
        "    time, pred = RoBerta_large(pred_texts)\n",
        "    robertaM = metric(true, pred)\n",
        "    print(f\"The Roberta large metrics:\\n accuracy={robertaM[0]},precision={robertaM[1]},recall={robertaM[2]},f1 score ={robertaM[3]},time per sentiment= {time}\")\n",
        "    time, pred = bert_base(pred_texts)\n",
        "    Bert = metric(true, pred)\n",
        "    print(f\"The bert multilang metrics:\\n accuracy={Bert[0]},precision={Bert[1]},recall={Bert[2]},f1 score ={Bert[3]},time per sentiment= {time}\")"
      ],
      "execution_count": null,
      "outputs": []
    },
    {
      "cell_type": "code",
      "metadata": {
        "pycharm": {
          "is_executing": true,
          "name": "#%%\n"
        },
        "id": "9dib59usSWyp"
      },
      "source": [
        "\n",
        "def yelp():\n",
        "    file_name = \"Datasets/yelp.csv\"\n",
        "    text_column = \"text\"\n",
        "    df = pd.read_csv(file_name)\n",
        "    df=shuffle (df)\n",
        "    df=df[:10000]\n",
        "    true = df[\"sent\"]\n",
        "    pred_texts = df[text_column].dropna().astype('str').tolist()\n",
        "    print(\"Metrics for yelp sentiment:\")\n",
        "    time, pred = textblobPattern(pred_texts)\n",
        "    textblobM = metric(true, pred)\n",
        "    print(f\"The textblob metrics:\\n accuracy={textblobM[0]},precision={textblobM[1]},recall={textblobM[2]},f1 score ={textblobM[3]},time per sentiment= {time}\")\n",
        "    time, pred = vader(pred_texts)\n",
        "    vaderM = metric(true, pred)\n",
        "    print(f\"The Vader metrics:\\n accuracy={vaderM[0]},precision={vaderM[1]},recall={vaderM[2]},f1 score ={vaderM[3]},time per sentiment= {time}\")\n",
        "    time, pred = flair(pred_texts)\n",
        "    flairM = metric(true, pred)\n",
        "    print(f\"The flair metrics:\\n accuracy={flairM[0]},precision={flairM[1]},recall={flairM[2]},f1 score ={flairM[3]},time per sentiment= {time}\")\n",
        "    time, pred = RoBerta_large(pred_texts)\n",
        "    robertaM = metric(true, pred)\n",
        "    print(f\"The Roberta large metrics:\\n accuracy={robertaM[0]},precision={robertaM[1]},recall={robertaM[2]},f1 score ={robertaM[3]},time per sentiment= {time}\")\n",
        "    time, pred = bert_base(pred_texts)\n",
        "    Bert = metric(true, pred)\n",
        "    print(f\"The bert multilang metrics:\\n accuracy={Bert[0]},precision={Bert[1]},recall={Bert[2]},f1 score ={Bert[3]},time per sentiment= {time}\")"
      ],
      "execution_count": null,
      "outputs": []
    },
    {
      "cell_type": "code",
      "metadata": {
        "pycharm": {
          "is_executing": true,
          "name": "#%%\n"
        },
        "id": "s4ssBQD1SWyq"
      },
      "source": [
        "def Imdb():\n",
        "    file_name = \"Datasets/Imdb.csv\"\n",
        "    text_column = \"review\"\n",
        "    df = pd.read_csv(file_name)\n",
        "    df=shuffle (df)\n",
        "    df=df[:10000]\n",
        "    true = df[\"sentiment\"]\n",
        "    pred_texts = df[text_column].dropna().astype('str').tolist()\n",
        "    print(\"Metrics for IMDB dataset:\")\n",
        "    time, pred = textblobPattern(pred_texts)\n",
        "    textblobM = metric(true, pred)\n",
        "    print(f\"The textblob metrics:\\n accuracy={textblobM[0]},precision={textblobM[1]},recall={textblobM[2]},f1 score ={textblobM[3]},time per sentimen= t{time}\")\n",
        "    time, pred = vader(pred_texts)\n",
        "    vaderM = metric(true, pred)\n",
        "    print(f\"The Vader metrics:\\n accuracy={vaderM[0]},precision={vaderM[1]},recall={vaderM[2]},f1 score ={vaderM[3]},time per sentiment= {time}\")\n",
        "    time, pred = flair(pred_texts)\n",
        "    flairM = metric(true, pred)\n",
        "    print(f\"The flair metrics:\\n accuracy={flairM[0]},precision={flairM[1]},recall={flairM[2]},f1 score ={flairM[3]},time per sentiment= {time}\")\n",
        "    time, pred = RoBerta_large(pred_texts)\n",
        "    robertaM = metric(true, pred)\n",
        "    print(f\"The Roberta large metrics:\\n accuracy={robertaM[0]},precision={robertaM[1]},recall={robertaM[2]},f1 score ={robertaM[3]},time per sentiment= {time}\")\n",
        "    time, pred = bert_base(pred_texts)\n",
        "    Bert = metric(true, pred)\n",
        "    print(f\"The bert multilang metrics:\\n accuracy={Bert[0]},precision={Bert[1]},recall={Bert[2]},f1 score ={Bert[3]},time per sentiment= {time}\")"
      ],
      "execution_count": null,
      "outputs": []
    },
    {
      "cell_type": "code",
      "metadata": {
        "pycharm": {
          "is_executing": true,
          "name": "#%%\n"
        },
        "id": "0y_wtqcRSWyr"
      },
      "source": [
        "def t140sentiment():\n",
        "    file_name = \"/content/drive/MyDrive/140sentiment.csv\"\n",
        "    text_column = \"text\"\n",
        "    df = pd.read_csv(file_name)\n",
        "    df=shuffle (df)\n",
        "    df=df[:10000]\n",
        "    true = df[\"sent\"]\n",
        "    pred_texts = df[text_column].dropna().astype('str').tolist()\n",
        "    print(\"Metrics for sentiment140 dataset:\")\n",
        "    time, pred = textblobPattern(pred_texts)\n",
        "    textblobM = metric(true, pred)\n",
        "    print(f\"The textblob metrics:\\n accuracy={textblobM[0]},precision={textblobM[1]},recall={textblobM[2]},f1 score ={textblobM[3]},time per sentiment= {time}\")\n",
        "    time, pred = vader(pred_texts)\n",
        "    vaderM = metric(true, pred)\n",
        "    print(f\"The Vader metrics:\\n accuracy={vaderM[0]},precision={vaderM[1]},recall={vaderM[2]},f1 score ={vaderM[3]},time per sentiment= {time}\")\n",
        "    time, pred = flair(pred_texts)\n",
        "    flairM = metric(true, pred)\n",
        "    print(f\"The flair metrics:\\n accuracy={flairM[0]},precision={flairM[1]},recall={flairM[2]},f1 score ={flairM[3]},time per sentiment= {time}\")\n",
        "    time, pred = RoBerta_large(pred_texts)\n",
        "    robertaM = metric(true, pred)\n",
        "    print(f\"The Roberta large metrics:\\n accuracy={robertaM[0]},precision={robertaM[1]},recall={robertaM[2]},f1 score ={robertaM[3]},time per sentiment= {time}\")\n",
        "    time, pred = bert_base(pred_texts)\n",
        "    Bert = metric(true, pred)\n",
        "    print( f\"The bert multilang metrics:\\n accuracy={Bert[0]},precision={Bert[1]},recall={Bert[2]},f1 score ={Bert[3]},time per sentiment= {time}\")"
      ],
      "execution_count": null,
      "outputs": []
    },
    {
      "cell_type": "code",
      "metadata": {
        "pycharm": {
          "is_executing": true,
          "name": "#%%\n"
        },
        "id": "9IDwpOFmSWys"
      },
      "source": [
        "def amazon():\n",
        "    file_name = \"Datasets/amazonFoods.csv\"\n",
        "    text_column = \"Text\"\n",
        "    df = pd.read_csv(file_name)\n",
        "    df=shuffle (df)\n",
        "    df=df[:10000]\n",
        "    true = df[\"Score\"]\n",
        "    pred_texts = df[text_column].dropna().astype('str').tolist()\n",
        "    print(\"Metrics for Amazon food dataset:\")\n",
        "    time,pred=textblobPattern(pred_texts)\n",
        "    textblobM = metric(true, pred)\n",
        "    print(f\"The textblob metrics:\\n accuracy={textblobM[0]},precision={textblobM[1]},recall={textblobM[2]},f1 score ={textblobM[3]},time per sentiment= {time}\")\n",
        "    time,pred=vader(pred_texts)\n",
        "    vaderM = metric(true, pred)\n",
        "    print(f\"The Vader metrics:\\n accuracy={vaderM[0]},precision={vaderM[1]},recall={vaderM[2]},f1 score ={vaderM[3]},time per sentiment= {time}\")\n",
        "    time,pred=flair(pred_texts)\n",
        "    flairM = metric(true, pred)\n",
        "    print(f\"The flair metrics:\\n accuracy={flairM[0]},precision={flairM[1]},recall={flairM[2]},f1 score ={flairM[3]},time per sentiment= {time}\")\n",
        "    time,pred=RoBerta_large(pred_texts)\n",
        "    robertaM = metric(true, pred)\n",
        "    print(f\"The Roberta large metrics:\\n accuracy={robertaM[0]},precision={robertaM[1]},recall={robertaM[2]},f1 score ={robertaM[3]},time per sentiment= {time}\")\n",
        "    time,pred=bert_base(pred_texts)\n",
        "    Bert = metric(true, pred)\n",
        "    print(f\"The bert multilang metrics:\\n accuracy={Bert[0]},precision={Bert[1]},recall={Bert[2]},f1 score ={Bert[3]},time per sentiment= {time}\")\n",
        "\n",
        "\n"
      ],
      "execution_count": null,
      "outputs": []
    },
    {
      "cell_type": "markdown",
      "metadata": {
        "id": "crmp0pBJSWyt"
      },
      "source": [
        "### Main:"
      ]
    },
    {
      "cell_type": "code",
      "metadata": {
        "id": "G7ngJZhTcuM-",
        "pycharm": {
          "is_executing": true
        }
      },
      "source": [
        "\n",
        "    UsAirTw()\n",
        "    Imdb()\n",
        "    t140sentiment()\n",
        "    amazon()\n",
        "    yelp()"
      ],
      "execution_count": null,
      "outputs": []
    },
    {
      "cell_type": "markdown",
      "metadata": {
        "id": "CMFt-OUiWQCo"
      },
      "source": [
        "## Results:\n",
        "### for UsAirlineTweets:\n",
        "- The textblob metrics:\n",
        " - accuracy=0.47, precision=0.68, recall=0.47, f1 score =0.48,time per sentiment = 0.0001\n",
        "- The Vader metrics:\n",
        " - accuracy=0.41, precision=0.73, recall=0.41, f1 score =0.4,time per sentiment = 0.0001\n",
        "- The flair metrics:\n",
        " - accuracy=0.67, precision=0.58, recall=0.67, f1 score =0.61 ,time per sentiment = 0.001\n",
        "- The Roberta large metrics:\n",
        " - accuracy=0.75, precision=0.62, recall=0.75, f1 score =0.67,time per sentiment = 0.0173\n",
        "- The bert multilang metrics:\n",
        " - accuracy=0.66, precision=0.64, recall=0.66, f1 score =0.64,time per sentiment = 0.071\n",
        " \n",
        "### for imdb:\n",
        "- The textblob metrics:\n",
        " - accuracy=0.69,precision=0.76,recall=0.69,f1 score =0.67,time per sentimenT= 0.0015\n",
        "- The Vader metrics:\n",
        " - accuracy=0.64,precision=0.75,recall=0.64,f1 score =0.67,time per sentiment= 0.0064\n",
        "- The flair metrics:\n",
        " - accuracy=0.9,precision=0.9,recall=0.9,f1 score =0.9,time per sentiment= 0.039\n",
        "- The Roberta large metrics:\n",
        " - accuracy=0.96,precision=0.96,recall=0.96,f1 score =0.96,time per sentiment= 1.29\n",
        "- The bert multilang metrics:\n",
        " - accuracy=0.78,precision=0.92,recall=0.78,f1 score =0.85,time per sentiment= 0.59\n",
        "\n",
        "### for Amazon:\n",
        "- The textblob metrics:\n",
        " - accuracy=0.79,precision=0.73,recall=0.79,f1 score =0.75,time per sentiment= 0.001\n",
        "- The Vader metrics:\n",
        " - accuracy=0.75,precision=0.79,recall=0.75,f1 score =0.75,time per sentiment= 0.001\n",
        "- The flair metrics:\n",
        " - accuracy=0.84,precision=0.82,recall=0.84,f1 score =0.82,time per sentiment= 0.013\n",
        "- The Roberta large metrics:\n",
        " - accuracy=0.89,precision=0.84,recall=0.89,f1 score =0.86,time per sentiment= 0.97\n",
        "- The bert multilang metrics:\n",
        " - accuracy=0.85,precision=0.88,recall=0.85,f1 score =0.86,time per sentiment= 0.29\n",
        "\n",
        "### for 140sentiment:\n",
        "- The textblob metrics:\n",
        " - accuracy=0.44,precision=0.7,recall=0.44,f1 score =0.52,time per sentiment= 0.00026\n",
        "- The Vader metrics:\n",
        " - accuracy=0.3,precision=0.79,recall=0.3,f1 score =0.41,time per sentiment= 0.0001\n",
        "- The flair metrics:\n",
        " - accuracy=0.7,precision=0.7,recall=0.7,f1 score =0.7,time per sentiment= 0.0031\n",
        "-The Roberta large metrics:\n",
        " - accuracy=0.75,precision=0.76,recall=0.75,f1 score =0.75,time per sentiment= 0.401\n",
        "- The bert multilang metrics:\n",
        " - accuracy=0.63,precision=0.72,recall=0.63,f1 score =0.67,time per sentiment= 0.112\n",
        " \n",
        "### for yelp:\n",
        "- The textblob metrics:\n",
        " - accuracy=0.68,precision=0.78,recall=0.68,f1 score =0.65,time per sentiment= 0.001\n",
        "- The Vader metrics:\n",
        " - accuracy=0.62,precision=0.83,recall=0.62,f1 score =0.63,time per sentiment= 0.002\n",
        "- The flair metrics:\n",
        " - accuracy=0.93,precision=0.93,recall=0.93,f1 score =0.93,time per sentiment= 0.022\n",
        "- The Roberta large metrics:\n",
        " - accuracy=0.97,precision=0.97,recall=0.97,f1 score =0.97,time per sentiment= 0.92\n",
        "- The bert multilang metrics:\n",
        " - accuracy=0.85,precision=0.94,recall=0.85,f1 score =0.89,time per sentiment= 0.42"
      ]
    },
    {
      "cell_type": "markdown",
      "metadata": {
        "id": "SQQ4l1NvWQCo"
      },
      "source": [
        "## Topics covered:\n",
        "- Textblob - vader - flair libraries\n",
        "- Text operations: lemmatization - tokenization - vectorization - wordnet - tagging - n-gram \n",
        "- Machine learning concepts: vector space model, k-means clustering,[ Naive Bayes, k-NN, SVM] classifiers, decision tree - random forest - transformers (word2vec and wordtree of stanford).\n",
        "- Technologies: Jupyter notebook - Google colab\n",
        "- Dataset handeling: dataset preprocessing\n",
        "- Sentiment analysis approaches\n",
        "- Handeling multiple  Deeplearning models: roBERTa - BERT - [GloVe - Fasttext - torchtext]"
      ]
    },
    {
      "cell_type": "markdown",
      "metadata": {
        "id": "RmNKHYLpWQCp"
      },
      "source": [
        "## References:\n",
        "- https://julsimon.medium.com/a-quick-look-at-natural-language-processing-with-amazon-comprehend-238b8d9ec11d (REVIEW VIP)\n",
        "- https://neptune.ai/blog/sentiment-analysis-python-textblob-vs-vader-vs-flair\n",
        "- https://towardsdatascience.com/customer-churn-accuracy-a-4-6-increase-with-feature-engineering-29bcb1b1ee8f (REVIEW)\n",
        "- https://www.analyticsvidhya.com/blog/2021/01/sentiment-analysis-vader-or-textblob/\n",
        "- https://pythonprogramming.net/sentiment-analysis-python-textblob-vader/\n",
        "- https://towardsdatascience.com/sentimental-analysis-using-vader-a3415fef7664\n",
        "- https://medium.com/geekculture/what-nlp-library-you-should-use-for-your-sentimental-analysis-project-bef6b357a6db\n",
        "- https://towardsdatascience.com/sentiment-analysis-comparing-3-common-approaches-naive-bayes-lstm-and-vader-ab561f834f89\n",
        "-https://www.digitalocean.com/community/tutorials/how-to-perform-sentiment-analysis-in-python-3-using-the-natural-language-toolkit-nltk\n",
        "- https://medium.com/geekculture/what-nlp-library-you-should-use-for-your-sentimental-analysis-project-bef6b357a6db\n",
        "- https://stackoverflow.com/questions/10059594/a-simple-explanation-of-naive-bayes-classification\n",
        "****\n",
        "* N-grams rule based model\n",
        "- https://www.sciencedirect.com/science/article/pii/S095741741830143X\n",
        "- https://github.com/sfu-discourse-lab/SO-CAL(to be reviewed)\n",
        "- https://towardsdatascience.com/text-analysis-basics-in-python-443282942ec5\n",
        "****\n",
        "- https://julsimon.medium.com/a-quick-look-at-natural-language-processing-with-amazon-comprehend-238b8d9ec11d\n",
        "-https://towardsdatascience.com/text-classification-with-state-of-the-art-nlp-library-flair-b541d7add21f\n",
        "- https://machinelearningmastery.com/k-fold-cross-validation/\n",
        "-https://medium.com/analytics-vidhya/top-5-unknown-sentiment-analysis-projects-on-github-to-help-you-through-your-nlp-projects-8d8f195e80fc\n",
        "****\n",
        "- https://towardsdatascience.com/sentiment-analysis-comparing-3-common-approaches-naive-bayes-lstm-and-vader-ab561f834f89\n",
        "- https://towardsdatascience.com/aspect-based-sentiment-analysis-using-spacy-textblob-4c8de3e0d2b9\n",
        "- https://towardsdatascience.com/text-classification-with-state-of-the-art-nlp-library-flair-b541d7add21f\n",
        "- https://github.com/nahida-uap/Accuracy-improvement-of-Textblob-based-on-Supervised-learning-method\n",
        "### transformers:\n",
        "- https://towardsdatascience.com/fine-grained-sentiment-analysis-in-python-part-1-2697bb111ed4\n",
        "- https://www.hindawi.com/journals/mpe/2021/5536560/\n",
        "- https://hcis-journal.springeropen.com/articles/10.1186/s13673-017-0116-3\n",
        "- https://paperswithcode.com/task/sentiment-analysis\n",
        "- https://theappsolutions.com/blog/development/sentiment-analysis/\n",
        "- https://www.linkedin.com/pulse/best-ai-algorithms-sentiment-analysis-muktabh-mayank/\n",
        "- https://medium.com/inside-machine-learning/what-is-a-transformer-d07dd1fbec04\n",
        "- https://neptune.ai/blog/document-classification-small-datasets\n",
        "- https://www.marktechpost.com/2021/09/09/facebook-ai-introduces-gslm-generative-spoken-language-model-a-textless-nlp-model-that-breaks-free-completely-of-the-dependence-on-text-for-training/\n",
        "- https://towardsdatascience.com/what-is-embedding-and-what-can-you-do-with-it-61ba7c05efd8\n",
        "- https://www.analyticsvidhya.com/blog/2021/06/nlp-sentiment-analysis/\n",
        "- https://www.freecodecamp.org/news/google-bert-nlp-machine-learning-tutorial/\n",
        "-https://github.com/dejongyeong/sentiment-analysis\n",
        "- https://github.com/bentrevett/pytorch-sentiment-analysis\n",
        "- https://www.freecodecamp.org/news/google-bert-nlp-machine-learning-tutorial/\n",
        "- https://neptune.ai/blog/category/experiment-tracking\n",
        "- https://www.datacamp.com/community/tutorials/simplifying-sentiment-analysis-python\n",
        "- https://www.kaggle.com/iamprateek/sentiment-analysis-using-roberta/notebook\n",
        "- https://towardsdatascience.com/discover-the-sentiment-of-reddit-subgroup-using-roberta-model-10ab9a8271b8\n",
        "- https://arxiv.org/pdf/2001.05326.pdf\n",
        "- https://towardsdatascience.com/bert-for-dummies-step-by-step-tutorial-fb90890ffe03\n",
        "- https://fasttext.cc/\n",
        "### models:\n",
        "-https://huggingface.co/j-hartmann/emotion-english-distilroberta-base\n",
        "-https://huggingface.co/cardiffnlp/twitter-roberta-base-sentiment\n",
        "- https://huggingface.co/nlptown/bert-base-multilingual-uncased-sentiment?text=the+was+not+just+pretty+sad+but+not+good+either\n",
        "-https://www.tensorflow.org/hub\n",
        "-https://textblob.readthedocs.io/en/dev/classifiers.html#next-steps\n",
        "-https://annals-csis.org/Volume_24/drp/pdf/20.pdf\n",
        "-https://www.geeksforgeeks.org/flair-a-framework-for-nlp/\n",
        "-https://pypi.org/project/vaderSentiment/\n",
        "-https://github.com/flairNLP/flair\n",
        "- https://github.com/shahules786/Twitter-Sentiment\n",
        "### Performance testing:\n",
        "- https://realpython.com/python-timer/\n",
        "- https://www.w3schools.com/python/ref_keyword_assert.asp\n",
        "- https://towardsdatascience.com/multi-class-metrics-made-simple-part-i-precision-and-recall-9250280bddc2\n",
        "-https://www.lexalytics.com/lexablog/sentiment-accuracy-baseline-testing\n",
        "- https://therenegadecoder.com/code/how-to-performance-test-python-code/\n",
        "- https://www.kaggle.com/vipulgandhi/how-to-choose-right-metric-for-evaluating-ml-model\n",
        "-https://neptune.ai/blog/hyperparameter-tuning-in-python-a-complete-guide-2020\n",
        "- https://stackoverflow.com/questions/44734297/how-to-profile-python-3-5-code-line-by-line-in-jupyter-notebook-5\n",
        "- https://www.youtube.com/watch?v=HW29067qVWk\n",
        "-https://www.youtube.com/watch?v=PfVxFV1ZPnk&t=2958s\n",
        "- https://stackoverflow.com/questions/419163/what-does-if-name-main-do\n",
        "-https://medium.com/@bedigunjit/simple-guide-to-text-classification-nlp-using-svm-and-naive-bayes-with-python-421db3a72d34\n",
        "\n",
        "### Datasets:\n",
        "- https://analyticsdrift.com/top-15-datasets-for-sentiment-analysis-with-significant-citations/\n",
        "- https://www.kaggle.com/kazanova/sentiment140\n",
        "- https://neptune.ai/blog/document-classification-small-datasets\n",
        "- https://stackoverflow.com/questions/42467316/python3-how-to-read-the-txt-bz2-file\n",
        "-https://www.kaggle.com/laowingkin/amazon-fine-food-review-sentiment-analysis\n",
        "-https://www.kaggle.com/suzanaiacob/sentiment-analysis-of-the-yelp-reviews-data?select=yelp_academic_dataset_tip.json\n",
        "-https://medium.com/hackerdawn/imdb-review-sentiment-analysis-using-logistic-regression-d7878ee01947\n",
        "- https://medium.com/analytics-vidhya/performing-sentiment-analysis-on-yelp-restaurant-reviews-962334d6336d\n",
        "-https://www.kaggle.com/parthsharma5795/comprehensive-twitter-airline-sentiment-analysis\n",
        "- https://www.kaggle.com/c/sentiment-analysis-on-movie-reviews/data\n"
      ]
    }
  ]
}