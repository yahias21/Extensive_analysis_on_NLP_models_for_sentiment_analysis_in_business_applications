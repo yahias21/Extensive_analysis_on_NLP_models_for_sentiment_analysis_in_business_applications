{
 "cells": [
  {
   "cell_type": "markdown",
   "metadata": {},
   "source": [
    "# A complete profile for sentiment analysis model"
   ]
  },
  {
   "cell_type": "markdown",
   "metadata": {},
   "source": [
    "## Models Ideas:\n",
    "1. Use of custom models for different categories (tech, food, books,...) to be automatically(by using label detection) or manually selected(by the client). *(different datasets included)*\n",
    "3. Developing a layered classification **use *fast/slow* classification** (divide the dataset using confidence index to strong and weak groups; the weak group will be analysed further using ML model).\n",
    "4. Aspect based analysis **(attach sentiment to specific aspects rather than sentence/opinion)** and word cloud **(for word frequencies)** to show insights of the reviews. \n",
    "5. Use of lemmatization, opinion unit extractor, subjectivity index and multiclass classification(love, sad, angry,...) for better performance and data enrichment.\n",
    "6. Implementation of a sent-ngrams lexion sentiment analysis **(SO-CAL)**. (Implementation phase)\n",
    "7. Use of client dataset to fine-tune the model. (Ideation phase)"
   ]
  },
  {
   "cell_type": "markdown",
   "metadata": {},
   "source": [
    "## Datasets used:\n",
    "1. Twitter airline \n",
    "2. IMDB \n",
    "3. Yelp (preprocessing phase)\n",
    "4. Amazon \n",
    "5. 140sentiment twitter"
   ]
  },
  {
   "cell_type": "markdown",
   "metadata": {},
   "source": [
    "## Implementation:"
   ]
  },
  {
   "cell_type": "markdown",
   "metadata": {},
   "source": [
    "### Imports:"
   ]
  },
  {
   "cell_type": "code",
   "execution_count": 10,
   "metadata": {},
   "outputs": [],
   "source": [
    "from textblob import TextBlob as tb\n",
    "from textblob.sentiments import NaiveBayesAnalyzer\n",
    "from textblob import Blobber\n",
    "from vaderSentiment.vaderSentiment import SentimentIntensityAnalyzer\n",
    "from flair.data import Sentence\n",
    "from flair.models import TextClassifier\n",
    "import spacy\n",
    "from sklearn import metrics\n",
    "import pandas as pd"
   ]
  },
  {
   "cell_type": "markdown",
   "metadata": {},
   "source": [
    "### libraries implementation:"
   ]
  },
  {
   "cell_type": "code",
   "execution_count": 1,
   "metadata": {},
   "outputs": [],
   "source": [
    "def metric(true,predict):\n",
    "    analytics=[]\n",
    "    #metrics.classification_report(true,predict)\n",
    "    analytics.append(metrics.accuracy_score(true,predict))\n",
    "    analytics.append(metrics.percision_score(true,predict))\n",
    "    analytics.append(metrics.recall_score(true,predict))\n",
    "    analytics.append(metrics.f1_score(true,predict))\n",
    "    return analytics"
   ]
  },
  {
   "cell_type": "code",
   "execution_count": 2,
   "metadata": {},
   "outputs": [],
   "source": [
    "def textblobPattern(df):\n",
    "    sentiment=[]\n",
    "    for sentence in df:\n",
    "        sent=tb(sentence).polarity\n",
    "        if sent>0:\n",
    "            sentiment.append(1)\n",
    "        elif sent<0:\n",
    "            sentiment.append(-1)\n",
    "        else:\n",
    "            sentiment.append(0)\n",
    "    return sentiment"
   ]
  },
  {
   "cell_type": "code",
   "execution_count": null,
   "metadata": {},
   "outputs": [],
   "source": [
    "def textblobNB(df):\n",
    "    sentiment=[]\n",
    "    tbnb = Blobber(analyzer=NaiveBayesAnalyzer())\n",
    "    for sentence in df:\n",
    "        ts=tbnb(sentence).sentiment\n",
    "    return sentiment    "
   ]
  },
  {
   "cell_type": "code",
   "execution_count": null,
   "metadata": {},
   "outputs": [],
   "source": [
    "def vader(df):\n",
    "    sentiment=[]\n",
    "    analyzer = SentimentIntensityAnalyzer()\n",
    "    for sentence in df:\n",
    "        vs=analyzer.polarity_scores(sentence)['compound']\n",
    "        if (vs > 0.5):\n",
    "            sentiment.append(1)\n",
    "        elif (vs < -0.5):\n",
    "            sentiment.append(-1)\n",
    "        else:\n",
    "            sentiment.append(0)\n",
    "    return sentiment"
   ]
  },
  {
   "cell_type": "code",
   "execution_count": null,
   "metadata": {},
   "outputs": [],
   "source": [
    "def flair(df):\n",
    "    classifier = TextClassifier.load('en-sentiment')\n",
    "    sentiment=[]\n",
    "    for phrase in df:\n",
    "        text = Sentence(phrase)\n",
    "        classifier.predict(text)\n",
    "        sentiment.append(1 if text.labels[0].value == 'POSITIVE' else -1)\n",
    "    return sentiment"
   ]
  },
  {
   "cell_type": "code",
   "execution_count": null,
   "metadata": {},
   "outputs": [],
   "source": [
    "def spacy(df):\n",
    "    pass"
   ]
  },
  {
   "cell_type": "markdown",
   "metadata": {},
   "source": [
    "### Training model:"
   ]
  },
  {
   "cell_type": "code",
   "execution_count": null,
   "metadata": {},
   "outputs": [],
   "source": [
    "def textblobDTtrain(df):\n",
    "    pass"
   ]
  },
  {
   "cell_type": "code",
   "execution_count": null,
   "metadata": {},
   "outputs": [],
   "source": [
    "def textblobNBtrain(df):\n",
    "    pass"
   ]
  },
  {
   "cell_type": "code",
   "execution_count": null,
   "metadata": {},
   "outputs": [],
   "source": [
    "def flairtrain(df):\n",
    "    pass"
   ]
  },
  {
   "cell_type": "code",
   "execution_count": null,
   "metadata": {},
   "outputs": [],
   "source": [
    "def RoBerta(df):\n",
    "    pass"
   ]
  },
  {
   "cell_type": "markdown",
   "metadata": {},
   "source": [
    "### Model testing: (for each dataset)"
   ]
  },
  {
   "cell_type": "markdown",
   "metadata": {},
   "source": [
    "### Main:"
   ]
  },
  {
   "cell_type": "markdown",
   "metadata": {},
   "source": [
    "## Results:"
   ]
  },
  {
   "cell_type": "markdown",
   "metadata": {},
   "source": [
    "## Topics covered:\n",
    "- Textblob - vader - flair - Spacy libraries\n",
    "- Text operations: lemmatization - tokenization - vectorization - wordnet - tagging - n-gram \n",
    "- Machine learning concepts: vector space model, k-means clustering,[ Naive Bayes, k-NN, SVM] classifiers, decision tree - random forest - transformers (word2vec and wordtree of stanford).\n",
    "- Technologies: Jupyter notebook - Google colab\n",
    "- Dataset handeling: dataset preprocessing (and pandas library for csv) \n",
    "- Sentiment analysis approaches\n",
    "- Handeling multiple machine learning libraries: roBERTa - BERT - [GloVe - Fasttext - torchtext]\n",
    "- Training and fine tuning a custom model"
   ]
  },
  {
   "cell_type": "markdown",
   "metadata": {},
   "source": [
    "## References:\n",
    "- https://neptune.ai/blog/sentiment-analysis-python-textblob-vs-vader-vs-flair\n",
    "- https://towardsdatascience.com/customer-churn-accuracy-a-4-6-increase-with-feature-engineering-29bcb1b1ee8f (REVIEW)\n",
    "- https://www.analyticsvidhya.com/blog/2021/01/sentiment-analysis-vader-or-textblob/\n",
    "- https://pythonprogramming.net/sentiment-analysis-python-textblob-vader/\n",
    "- https://towardsdatascience.com/sentimental-analysis-using-vader-a3415fef7664\n",
    "- https://medium.com/geekculture/what-nlp-library-you-should-use-for-your-sentimental-analysis-project-bef6b357a6db\n",
    "- https://towardsdatascience.com/sentiment-analysis-comparing-3-common-approaches-naive-bayes-lstm-and-vader-ab561f834f89\n",
    "****\n",
    "* N-grams rule based model\n",
    "- https://www.sciencedirect.com/science/article/pii/S095741741830143X\n",
    "- https://github.com/sfu-discourse-lab/SO-CAL(to be reviewed)\n",
    "- https://towardsdatascience.com/text-analysis-basics-in-python-443282942ec5\n",
    "****\n",
    "- https://towardsdatascience.com/text-classification-with-state-of-the-art-nlp-library-flair-b541d7add21f"
   ]
  }
 ],
 "metadata": {
  "kernelspec": {
   "display_name": "Python 3 (ipykernel)",
   "language": "python",
   "name": "python3"
  },
  "language_info": {
   "codemirror_mode": {
    "name": "ipython",
    "version": 3
   },
   "file_extension": ".py",
   "mimetype": "text/x-python",
   "name": "python",
   "nbconvert_exporter": "python",
   "pygments_lexer": "ipython3",
   "version": "3.8.10"
  }
 },
 "nbformat": 4,
 "nbformat_minor": 1
}