{
 "cells": [
  {
   "cell_type": "markdown",
   "metadata": {},
   "source": [
    "# A complete profile for sentiment analysis model\n",
    "## Models Ideas:\n",
    "1. Use of custom models for different categories (tech, food, books,...) to be automatically(by using label detection) or manually selected(by the client).***AND DIFFERENT DATASETS ALSO***\n",
    "2. Run multiple models per dataset and derive weighted average results.\n",
    "3. Developing a layered classification **use *fast/slow* classification** (divide the dataset using confidence index to strong and weak groups; the weak group will be analysed further using another model).\n",
    "4. Aspect based analysis **(attach sentiment to specific aspects rather than sentence/opinion)** and word cloud **(for word frequencies)** to show insights of the reviews. \n",
    "5. Use of lemmatization, opinion unit extractor, subjectivity index and multiclass classification(love, sad, angry,...) for better performance and data enrichment.\n",
    "6. Use of client dataset to fine-tune the model. (Ideation phase)\n"
   ]
  },
  {
   "cell_type": "markdown",
   "metadata": {},
   "source": [
    "### Imports and libraries:"
   ]
  },
  {
   "cell_type": "code",
   "execution_count": 10,
   "metadata": {},
   "outputs": [],
   "source": [
    "from textblob import TextBlob as tb\n",
    "from textblob.sentiments import NaiveBayesAnalyzer\n",
    "from textblob import Blobber\n",
    "from vaderSentiment.vaderSentiment import SentimentIntensityAnalyzer\n",
    "from flair.data import Sentence\n",
    "from flair.models import TextClassifier\n",
    "import spacy\n",
    "from sklearn import metrics\n",
    "import pandas as pd"
   ]
  },
  {
   "cell_type": "markdown",
   "metadata": {},
   "source": [
    "### Textblob (pattern analyzer): \n",
    "- Rule based analyzed - (word score approach)"
   ]
  },
  {
   "cell_type": "code",
   "execution_count": null,
   "metadata": {},
   "outputs": [],
   "source": [
    "def textblobPattern(df):\n",
    "    sentiment=[]\n",
    "    for sentence in df:\n",
    "        sentiment.append(tb(sentence).polarity)\n",
    "    return sentiment"
   ]
  },
  {
   "cell_type": "code",
   "execution_count": null,
   "metadata": {},
   "outputs": [],
   "source": [
    "def vader(df):\n",
    "    sentiment=[]\n",
    "    analyzer= SentimentIntensityAnalyzer()\n",
    "    for sentence in df:\n",
    "        vs=analyzer.polarity_scores(sentence)\n",
    "    return sentiment"
   ]
  },
  {
   "cell_type": "code",
   "execution_count": null,
   "metadata": {},
   "outputs": [],
   "source": [
    "def flair(df):\n",
    "        classifier = TextClassifier.load('en-sentiment')\n",
    "        for phrase in df:\n",
    "            text=Sentence(phrase)\n",
    "            classifier.predict(text)\n",
    "            print(text.labels)"
   ]
  },
  {
   "cell_type": "code",
   "execution_count": null,
   "metadata": {},
   "outputs": [],
   "source": [
    "def textblobNB(df):\n",
    "    sentiment=[]\n",
    "    tbnb = Blobber(analyzer=NaiveBayesAnalyzer())\n",
    "    for sentence in df:\n",
    "        ts=tbnb(sentence).sentiment\n",
    "    return sentiment    "
   ]
  },
  {
   "cell_type": "code",
   "execution_count": null,
   "metadata": {},
   "outputs": [],
   "source": [
    "def spacy(df):\n",
    "    pass"
   ]
  },
  {
   "cell_type": "markdown",
   "metadata": {},
   "source": [
    "## Topics covered:\n",
    "- Textblob - vader - flair - Spacy libraries\n",
    "- Text operations: lemmatization - tokenization - vectorization - wordnet - tagging - n-gram \n",
    "- Machine learning concepts: vector space model, k-means clustering,[ Naive Bayes, k-NN, SVM] classifiers, decision tree - random forest\n",
    "- Technologies: Jupyter notebook - Google colab\n",
    "- Dataset handeling: dataset preprocessing (and pandas library for csv) \n",
    "- Sentiment analysis approaches\n",
    "- Handeling multiple machine learning libraries: roBERTa - BERT - [GloVe - Fasttext - torchtext]\n",
    "- Training and fine tuning a custom model"
   ]
  }
 ],
 "metadata": {
  "kernelspec": {
   "display_name": "Python 3 (ipykernel)",
   "language": "python",
   "name": "python3"
  },
  "language_info": {
   "codemirror_mode": {
    "name": "ipython",
    "version": 3
   },
   "file_extension": ".py",
   "mimetype": "text/x-python",
   "name": "python",
   "nbconvert_exporter": "python",
   "pygments_lexer": "ipython3",
   "version": "3.8.10"
  }
 },
 "nbformat": 4,
 "nbformat_minor": 1
}